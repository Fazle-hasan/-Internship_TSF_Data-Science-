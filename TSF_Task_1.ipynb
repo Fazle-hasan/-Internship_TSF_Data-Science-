{
  "nbformat": 4,
  "nbformat_minor": 0,
  "metadata": {
    "colab": {
      "name": "TSF Task 1.ipynb",
      "provenance": [],
      "collapsed_sections": []
    },
    "kernelspec": {
      "name": "python3",
      "display_name": "Python 3"
    },
    "language_info": {
      "name": "python"
    }
  },
  "cells": [
    {
      "cell_type": "markdown",
      "metadata": {
        "id": "8TcsEAFC0az6"
      },
      "source": [
        "The Spark Foundation Task 1\n",
        "#Supervised Machine Learning \n",
        "Simple Linear Regression:- \n",
        "It is used to find out the best relationship between a single input variable & output variable provided that both variables are continuous in nature."
      ]
    },
    {
      "cell_type": "markdown",
      "metadata": {
        "id": "idt-Y6lzaUzF"
      },
      "source": [
        "Predicted By :- Fazle hasan"
      ]
    },
    {
      "cell_type": "code",
      "metadata": {
        "id": "xXl9rXTU0VAO"
      },
      "source": [
        "# Importing required libraries \n",
        "import pandas as pd\n",
        "import numpy as np  \n",
        "import matplotlib.pyplot as plt  \n",
        "%matplotlib inline"
      ],
      "execution_count": null,
      "outputs": []
    },
    {
      "cell_type": "code",
      "metadata": {
        "id": "i3dh_t4BDhLy",
        "colab": {
          "base_uri": "https://localhost:8080/",
          "height": 205
        },
        "outputId": "0e0112fb-e9c7-4ac7-a41a-2283b677db6a"
      },
      "source": [
        "Url = 'http://bit.ly/w-data'\n",
        "df = pd.read_csv(Url)\n",
        "df.head()"
      ],
      "execution_count": null,
      "outputs": [
        {
          "output_type": "execute_result",
          "data": {
            "text/html": [
              "<div>\n",
              "<style scoped>\n",
              "    .dataframe tbody tr th:only-of-type {\n",
              "        vertical-align: middle;\n",
              "    }\n",
              "\n",
              "    .dataframe tbody tr th {\n",
              "        vertical-align: top;\n",
              "    }\n",
              "\n",
              "    .dataframe thead th {\n",
              "        text-align: right;\n",
              "    }\n",
              "</style>\n",
              "<table border=\"1\" class=\"dataframe\">\n",
              "  <thead>\n",
              "    <tr style=\"text-align: right;\">\n",
              "      <th></th>\n",
              "      <th>Hours</th>\n",
              "      <th>Scores</th>\n",
              "    </tr>\n",
              "  </thead>\n",
              "  <tbody>\n",
              "    <tr>\n",
              "      <th>0</th>\n",
              "      <td>2.5</td>\n",
              "      <td>21</td>\n",
              "    </tr>\n",
              "    <tr>\n",
              "      <th>1</th>\n",
              "      <td>5.1</td>\n",
              "      <td>47</td>\n",
              "    </tr>\n",
              "    <tr>\n",
              "      <th>2</th>\n",
              "      <td>3.2</td>\n",
              "      <td>27</td>\n",
              "    </tr>\n",
              "    <tr>\n",
              "      <th>3</th>\n",
              "      <td>8.5</td>\n",
              "      <td>75</td>\n",
              "    </tr>\n",
              "    <tr>\n",
              "      <th>4</th>\n",
              "      <td>3.5</td>\n",
              "      <td>30</td>\n",
              "    </tr>\n",
              "  </tbody>\n",
              "</table>\n",
              "</div>"
            ],
            "text/plain": [
              "   Hours  Scores\n",
              "0    2.5      21\n",
              "1    5.1      47\n",
              "2    3.2      27\n",
              "3    8.5      75\n",
              "4    3.5      30"
            ]
          },
          "metadata": {
            "tags": []
          },
          "execution_count": 3
        }
      ]
    },
    {
      "cell_type": "code",
      "metadata": {
        "colab": {
          "base_uri": "https://localhost:8080/"
        },
        "id": "5pppmAVZsceO",
        "outputId": "63de1b8d-ef1e-4d05-a096-ec95481b681d"
      },
      "source": [
        "#Checking Non values\n",
        "df.isnull().sum()"
      ],
      "execution_count": null,
      "outputs": [
        {
          "output_type": "execute_result",
          "data": {
            "text/plain": [
              "Hours     0\n",
              "Scores    0\n",
              "dtype: int64"
            ]
          },
          "metadata": {
            "tags": []
          },
          "execution_count": 4
        }
      ]
    },
    {
      "cell_type": "code",
      "metadata": {
        "colab": {
          "base_uri": "https://localhost:8080/",
          "height": 295
        },
        "id": "bXuR596PszvG",
        "outputId": "849bfd00-4479-4f7d-c223-b769c35ac824"
      },
      "source": [
        "#Ploting relationship between hours and score\n",
        "plt.scatter(df['Hours'],df['Scores'])\n",
        "plt.title(\"Relationship between Hours and score\")\n",
        "plt.xlabel('Hours Studied')  \n",
        "plt.ylabel('Percentage Score')  \n",
        "plt.show()"
      ],
      "execution_count": null,
      "outputs": [
        {
          "output_type": "display_data",
          "data": {
            "image/png": "[encoded data removed]",
            "text/plain": [
              "<Figure size 432x288 with 1 Axes>"
            ]
          },
          "metadata": {
            "tags": [],
            "needs_background": "light"
          }
        }
      ]
    },
    {
      "cell_type": "markdown",
      "metadata": {
        "id": "5p4pMh9dr60f"
      },
      "source": [
        "We can see there is a positive relationship between hours and score"
      ]
    },
    {
      "cell_type": "code",
      "metadata": {
        "id": "FkO7fq-StaxY"
      },
      "source": [
        "#Dividing the data into input and output\n",
        "X = df.iloc[:, :-1].values  \n",
        "Y = df.iloc[:, 1].values "
      ],
      "execution_count": null,
      "outputs": []
    },
    {
      "cell_type": "markdown",
      "metadata": {
        "id": "Nl7ipzpVvXTM"
      },
      "source": [
        "Now we split the data into Train and test format and Train the model using Sklearn"
      ]
    },
    {
      "cell_type": "code",
      "metadata": {
        "id": "oEphSu43vKDA"
      },
      "source": [
        "from sklearn.model_selection import train_test_split\n",
        "from sklearn.linear_model import LinearRegression\n",
        "X_train,X_test,Y_train,Y_test = train_test_split(X,Y,test_size = 0.3,random_state=42)"
      ],
      "execution_count": null,
      "outputs": []
    },
    {
      "cell_type": "code",
      "metadata": {
        "colab": {
          "base_uri": "https://localhost:8080/"
        },
        "id": "x8Z-HYCDvKE_",
        "outputId": "27bd52f9-7255-4c7d-c505-02ae2facd28e"
      },
      "source": [
        "Reg = LinearRegression()\n",
        "Reg.fit(X_train,Y_train)\n",
        "print(\"Training Complete.\")"
      ],
      "execution_count": null,
      "outputs": [
        {
          "output_type": "stream",
          "text": [
            "Training Complete.\n"
          ],
          "name": "stdout"
        }
      ]
    },
    {
      "cell_type": "code",
      "metadata": {
        "colab": {
          "base_uri": "https://localhost:8080/"
        },
        "id": "7KSLmOuf3LmK",
        "outputId": "fbdd5bdb-884f-4d8a-9cfe-0d32d36e5fa0"
      },
      "source": [
        "y_pred = Reg.predict(X_test)\n",
        "print(\"The predicted Y is:\",y_pred)"
      ],
      "execution_count": null,
      "outputs": [
        {
          "output_type": "stream",
          "text": [
            "The predicted Y is: [83.39168645 27.07054902 27.07054902 69.79692914 60.0863882  29.0126572\n",
            " 34.83898177 52.31795545]\n"
          ],
          "name": "stdout"
        }
      ]
    },
    {
      "cell_type": "code",
      "metadata": {
        "colab": {
          "base_uri": "https://localhost:8080/"
        },
        "id": "CUh5Nphy02va",
        "outputId": "2db89653-40a7-444b-c575-3ff16da88b8d"
      },
      "source": [
        "score = Reg.score(X_test,Y_test)\n",
        "print(\"Prediction Score is:-\",score)"
      ],
      "execution_count": null,
      "outputs": [
        {
          "output_type": "stream",
          "text": [
            "Prediction Score is:- 0.9487647340257012\n"
          ],
          "name": "stdout"
        }
      ]
    },
    {
      "cell_type": "code",
      "metadata": {
        "colab": {
          "base_uri": "https://localhost:8080/"
        },
        "id": "zqXn89bRnYzb",
        "outputId": "f9264277-6776-4b4c-c284-90440d287e37"
      },
      "source": [
        "from sklearn.metrics import mean_absolute_error\n",
        "print('Mean Absolute Error is:',mean_absolute_error(Y_test,y_pred))"
      ],
      "execution_count": null,
      "outputs": [
        {
          "output_type": "stream",
          "text": [
            "Mean Absolute Error is: 4.499999999999998\n"
          ],
          "name": "stdout"
        }
      ]
    },
    {
      "cell_type": "code",
      "metadata": {
        "colab": {
          "base_uri": "https://localhost:8080/",
          "height": 265
        },
        "id": "gofGyvRK2D7w",
        "outputId": "c2e26bcb-92d3-4fd4-c130-3360e50e6c30"
      },
      "source": [
        "# Plotting best fit line\n",
        "line = Reg.coef_*X+Reg.intercept_\n",
        "plt.scatter(X, Y)\n",
        "plt.plot(X, line,color = \"red\")\n",
        "plt.show()"
      ],
      "execution_count": null,
      "outputs": [
        {
          "output_type": "display_data",
          "data": {
            "image/png": "[encoded data removed]",
            "text/plain": [
              "<Figure size 432x288 with 1 Axes>"
            ]
          },
          "metadata": {
            "tags": [],
            "needs_background": "light"
          }
        }
      ]
    },
    {
      "cell_type": "code",
      "metadata": {
        "colab": {
          "base_uri": "https://localhost:8080/"
        },
        "id": "aqdyXmag3w6P",
        "outputId": "04cc37f4-a893-485e-dc36-4444c34bcddf"
      },
      "source": [
        "# Comparing Actual vs Predicted\n",
        "df = pd.DataFrame({'Actual': Y_test, 'Predicted': y_pred})  \n",
        "print(df) "
      ],
      "execution_count": null,
      "outputs": [
        {
          "output_type": "stream",
          "text": [
            "   Actual  Predicted\n",
            "0      81  83.391686\n",
            "1      30  27.070549\n",
            "2      21  27.070549\n",
            "3      76  69.796929\n",
            "4      62  60.086388\n",
            "5      25  29.012657\n",
            "6      42  34.838982\n",
            "7      47  52.317955\n"
          ],
          "name": "stdout"
        }
      ]
    },
    {
      "cell_type": "markdown",
      "metadata": {
        "id": "b1cZVMqtnO4Y"
      },
      "source": [
        "What will be predicted score if a student studies for 9.25hrs/day?\n"
      ]
    },
    {
      "cell_type": "code",
      "metadata": {
        "id": "obo3u2Kz35IY",
        "colab": {
          "base_uri": "https://localhost:8080/"
        },
        "outputId": "4375cc32-9889-4088-8090-de2c88efa004"
      },
      "source": [
        "Hour = [[9.25]]\n",
        "score = Reg.predict(Hour)\n",
        "print(score)"
      ],
      "execution_count": null,
      "outputs": [
        {
          "output_type": "stream",
          "text": [
            "[92.61670034]\n"
          ],
          "name": "stdout"
        }
      ]
    },
    {
      "cell_type": "markdown",
      "metadata": {
        "id": "6h9qYUVzsBrs"
      },
      "source": [
        "If a Student studies 9.25hrs/day the the predicted score is 92.61\n"
      ]
    }
  ]
}